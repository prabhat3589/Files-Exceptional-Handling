{
  "nbformat": 4,
  "nbformat_minor": 0,
  "metadata": {
    "colab": {
      "provenance": []
    },
    "kernelspec": {
      "name": "python3",
      "display_name": "Python 3"
    },
    "language_info": {
      "name": "python"
    }
  },
  "cells": [
    {
      "cell_type": "markdown",
      "source": [
        "# **Files & Exceptional Handling Theory Question**"
      ],
      "metadata": {
        "id": "VDFP98vcNs9-"
      }
    },
    {
      "cell_type": "markdown",
      "source": [
        "1. What is the difference between interpreted and compiled languages?\n",
        "-> The key difference between interpreted and compiled programming languages lies in how they translate source code into machine-executable instructions. Compiled languages translate the entire program into machine code before execution, while interpreted languages translate the code line by line during execution."
      ],
      "metadata": {
        "id": "wsbcHl5hN-nF"
      }
    },
    {
      "cell_type": "markdown",
      "source": [
        "2. What is exception handling in Python?\n",
        "-> Exception handling in Python is a mechanism used to manage runtime errors, called exceptions, that can disrupt the normal flow of a program. It allows the program to continue executing even when errors occur, preventing abrupt termination. This is achieved using try, except, else, and finally blocks.\n",
        "\n",
        "try: Encloses the code that might raise an exception.\n",
        "\n",
        "except: Catches and handles specific exceptions raised within the try block. Multiple except blocks can handle different exception types.\n",
        "\n",
        "else: Executes if no exception is raised in the try block.\n",
        "\n",
        "finally: Executes regardless of whether an exception was raised or caught, often used for cleanup actions."
      ],
      "metadata": {
        "id": "kcs1rpPDOH4w"
      }
    },
    {
      "cell_type": "markdown",
      "source": [
        "3. What is the purpose of the finally block in exception handling?\n",
        "-> The purpose of the finally block in exception handling is to ensure that certain code, such as cleanup operations or resource releases, executes regardless of whether an exception is thrown or caught in the try block. It guarantees that critical tasks, like closing files or releasing connections, will be performed, even if an exception occurs and the program flow is interrupted."
      ],
      "metadata": {
        "id": "dHuakWc8Opf1"
      }
    },
    {
      "cell_type": "markdown",
      "source": [
        "4. What is logging in Python?\n",
        "-> Logging in Python involves tracking events that occur during the execution of a program. It allows developers to record information about the program's behavior, which is crucial for debugging, monitoring, and understanding the application's flow. The logging module is part of the Python standard library and provides a flexible framework for emitting log messages."
      ],
      "metadata": {
        "id": "gPwP1enPOx83"
      }
    },
    {
      "cell_type": "markdown",
      "source": [
        "5. What is the significance of the __del__ method in Python?\n",
        "-> The __del__ method in Python, often referred to as a destructor, is a special method within a class that is called when an object is about to be destroyed. Its primary significance lies in its ability to perform cleanup actions, such as releasing resources, before the object is deallocated from memory."
      ],
      "metadata": {
        "id": "8LrOcMH1O8fI"
      }
    },
    {
      "cell_type": "markdown",
      "source": [
        "6. What is the difference between import and from ... import in Python?\n",
        "-> The import statement and the from ... import statement in Python serve different purposes in how they bring modules and their contents into your code.\n",
        "\n",
        "import module_name: This statement imports the entire module. To access items (functions, classes, variables) within the module, you use dot notation (module_name.item_name). This approach keeps the namespace clean, preventing naming conflicts, especially in larger projects.\n",
        "Python\n",
        "\n",
        "from module_name import item_name: This statement imports specific items directly into the current namespace. You can then use these items without dot notation. While convenient, this method can lead to naming conflicts if multiple modules define items with the same name."
      ],
      "metadata": {
        "id": "c28IcwxZPHBl"
      }
    },
    {
      "cell_type": "markdown",
      "source": [
        "7. How can you handle multiple exceptions in Python?\n",
        "-> Python allows you to catch multiple exceptions in a single 'except' block by specifying them as a tuple. This feature is useful when different exceptions require similar handling logic. In this case, if either 'ExceptionType1' or 'ExceptionType2' is raised, the code within the 'except' block will be executed"
      ],
      "metadata": {
        "id": "hRk1AafBPefg"
      }
    },
    {
      "cell_type": "markdown",
      "source": [
        "8. What is the purpose of the with statement when handling files in Python?\n",
        "-> The with statement in Python serves to streamline resource management, particularly in file handling. It ensures that files are properly opened and closed, even if errors occur during operations. This is achieved through context management, where the with block automatically handles the setup and teardown of resources."
      ],
      "metadata": {
        "id": "LTA4Ma4uQZp2"
      }
    },
    {
      "cell_type": "markdown",
      "source": [
        "9. What is the difference between multithreading and multiprocessing?\n",
        "-> Multithreading and multiprocessing are both techniques to run multiple tasks concurrently, but they differ in how they achieve this. Multithreading creates multiple threads within a single process, allowing for concurrent execution within that process, while multiprocessing creates multiple processes, each with its own resources, enabling parallel execution across multiple processors."
      ],
      "metadata": {
        "id": "a1-RcEc6QyL-"
      }
    },
    {
      "cell_type": "markdown",
      "source": [
        "10. What are the advantages of using logging in a program?\n",
        "-> Logging offers significant advantages in software development, including improved debugging, easier troubleshooting, enhanced system observability, and better communication between developers and administrators. It provides a record of events, helping identify issues, understand system behavior, and optimize performance."
      ],
      "metadata": {
        "id": "BWvkE3kVQ7rW"
      }
    },
    {
      "cell_type": "markdown",
      "source": [
        "11. What is memory management in Python?\n",
        "-> Memory management in Python involves the allocation and deallocation of memory for objects. Python's memory management is automatic, meaning that the programmer does not need to manually allocate or free memory. This is handled by the Python Memory Manager, which consists of a private heap containing all Python objects and data structures."
      ],
      "metadata": {
        "id": "IdpVoZ-qmXem"
      }
    },
    {
      "cell_type": "markdown",
      "source": [
        "12. What are the basic steps involved in exception handling in Python?\n",
        "-> Exception handling in Python involves a structured approach to manage errors that may arise during the execution of a program. The basic steps are outlined below:\n",
        "\n",
        "Identify potential exceptions:\n",
        "Analyze the code and determine sections where exceptions might occur, such as file operations, user input, or division.\n",
        "\n",
        "Implement try block:\n",
        "Enclose the code that might raise an exception within a try block. This block monitors the code for any potential errors.\n",
        "\n",
        "Handle exceptions with except block:\n",
        "If an exception occurs within the try block, the program immediately jumps to the except block that matches the exception type. Within this block, appropriate actions are taken to handle the error gracefully.\n",
        "\n",
        "Specify exception types:\n",
        "It's best practice to specify the type of exception to be caught, allowing for specific error handling. Multiple except blocks can be used to handle different exception types.\n",
        "\n",
        "Employ finally block (optional): The code within the finally block is always executed, regardless of whether an exception occurred or not. This is typically used for cleanup operations, such as closing files or releasing resources."
      ],
      "metadata": {
        "id": "BJdMbpUGmlDn"
      }
    },
    {
      "cell_type": "markdown",
      "source": [
        "13.  Why is memory management important in Python?\n",
        "-> Memory management is important in Python because it directly impacts the performance, stability, and efficiency of programs. It involves allocating and deallocating memory for objects during program execution, preventing memory leaks, and optimizing resource utilization. Efficient memory management ensures programs run smoothly, prevents crashes due to memory exhaustion, and allows for better handling of large datasets and complex operations. While Python automates much of this process through garbage collection, understanding memory management principles helps developers write more optimized and robust code."
      ],
      "metadata": {
        "id": "6D-uzBYEnC2_"
      }
    },
    {
      "cell_type": "markdown",
      "source": [
        "14. What is the role of try and except in exception handling?\n",
        "-> In exception handling, try and except blocks work together to gracefully handle errors or exceptions that may occur during code execution. The try block contains the code that might potentially raise an exception, and the except block contains the code that will be executed if an exception is raised within the try block. This allows the program to continue running instead of crashing when an error occurs."
      ],
      "metadata": {
        "id": "FRl6L4QSnLTc"
      }
    },
    {
      "cell_type": "markdown",
      "source": [
        "15. How does Python's garbage collection system work?\n",
        "-> Python uses a hybrid approach to garbage collection: reference counting and generational garbage collection. Reference counting efficiently handles most cases where an object's reference count reaches zero, indicating no more active references. However, reference cycles, where objects refer to each other, can prevent reference counts from dropping to zero, necessitating the generational garbage collector."
      ],
      "metadata": {
        "id": "wffrc4b6nVrl"
      }
    },
    {
      "cell_type": "markdown",
      "source": [
        "16. What is the purpose of the else block in exception handling?\n",
        "-> The else block in exception handling, often used in try...except...else structures, executes only when no exceptions are raised within the try block. It provides a way to execute code that's intended to run when the try block executes successfully, effectively separating normal execution from exception handling.\n",
        "\n",
        "Elaboration:\n",
        "\n",
        "Purpose: The else block allows you to execute specific code when the try block's operations are successful and no errors occur.\n",
        "\n",
        "Syntax: In many languages, the else block follows the try and except blocks."
      ],
      "metadata": {
        "id": "hKh4Y5lHndJ_"
      }
    },
    {
      "cell_type": "markdown",
      "source": [
        "17. What are the common logging levels in Python?\n",
        "-> In Python's logging module, there are five standard logging levels, each associated with a numeric value. These levels determine the severity of the messages being logged:\n",
        "\n",
        "1. DEBUG\n",
        "\n",
        "Purpose: Used for detailed diagnostic output.\n",
        "\n",
        "When used: During development and debugging; helps understand the program flow and internal states.\n",
        "\n",
        "Significance: Lowest level; not meant for production logs due to its verbosity.\n",
        "\n",
        "2. INFO\n",
        "\n",
        "Purpose: Provides confirmation that the program is working as intended.\n",
        "\n",
        "When used: To report successful operations (e.g., \"User logged in\", \"Data saved successfully\").\n",
        "\n",
        "Significance: Useful for general runtime tracking without overwhelming detail.\n",
        "\n",
        "3. WARNING\n",
        "\n",
        "Purpose: Indicates a potential issue or something unexpected, but not critical.\n",
        "\n",
        "When used: To alert developers or operators to situations that might lead to problems (e.g., deprecated API usage, low disk space).\n",
        "\n",
        "Significance: Suggests attention may be needed but program continues.\n",
        "\n",
        "4. ERROR\n",
        "\n",
        "Purpose: Indicates a failure in a specific part of the program.\n",
        "\n",
        "When used: When the program cannot perform a particular function due to an error (e.g., file not found, connection error).\n",
        "\n",
        "Significance: Requires investigation; functionality is partially broken.\n",
        "\n",
        "5. CRITICAL\n",
        "\n",
        "Purpose: Indicates a serious error that may prevent the application from continuing.\n",
        "\n",
        "When used: For unrecoverable errors or system failures (e.g., corrupted database, service crash).\n",
        "\n",
        "Significance: Highest severity; typically used before program termination or for alerting system administrators."
      ],
      "metadata": {
        "id": "d4HW-sgUnsOd"
      }
    },
    {
      "cell_type": "markdown",
      "source": [
        "18. What is the difference between os.fork() and multiprocessing in Python?\n",
        "-> os.fork() and multiprocessing both enable process creation in Python, but they operate differently and have distinct use cases.\n",
        "\n",
        "os.fork() creates a new process by duplicating the existing one. The child process is an exact copy of the parent, inheriting its memory space and resources. It's a low-level system call, primarily available on Unix-like systems. After forking, both parent and child processes continue execution from the next instruction, with os.fork() returning 0 in the child and the child's PID in the parent.\n",
        "\n",
        "multiprocessing is a higher-level module providing a more portable and feature-rich approach to process management. It offers various methods for creating and managing processes, including multiprocessing.Process, which starts a new Python interpreter for each process. This isolates processes and avoids the complexities of shared memory, making it safer for concurrent execution, especially in multithreaded environments."
      ],
      "metadata": {
        "id": "S9JEs48f6Yc7"
      }
    },
    {
      "cell_type": "markdown",
      "source": [
        "19. What is the importance of closing a file in Python?\n",
        "-> Closing a file in Python is important for several reasons:\n",
        "\n",
        "Resource Management:\n",
        "When a file is opened, the operating system allocates resources to manage it. Failing to close the file releases these resources, which can lead to resource leaks over time, potentially causing performance issues or even crashes.\n",
        "\n",
        "Data Integrity:\n",
        "When data is written to a file, it might not be immediately written to the disk; instead, it might be buffered. Closing the file ensures that all buffered data is written to the disk, preventing data loss or corruption.\n",
        "\n",
        "File Locking:\n",
        "Some file operations require exclusive access to the file. If a file is not closed, it might remain locked, preventing other processes or users from accessing it.\n",
        "\n",
        "Code Maintainability:\n",
        "Properly closing files is a best practice that improves code maintainability. It makes the code more robust and easier to understand, as it's clear when resources are being managed correctly."
      ],
      "metadata": {
        "id": "wG_SDZmJ6mWK"
      }
    },
    {
      "cell_type": "markdown",
      "source": [
        "20. What is the difference between file.read() and file.readline() in Python?\n",
        "-> The file.read() and file.readline() methods in Python are used to read data from a file object, but they differ in how much data they read at once.\n",
        "\n",
        "file.read() reads the entire content of the file as a single string. If a size argument is given (e.g., file.read(size)), it reads at most size characters or bytes from the file. If the end of the file is reached, it returns an empty string.\n",
        "\n",
        "file.readline() reads a single line from the file, including the newline character (\\n) at the end of the line. If a size argument is given (e.g., file.readline(size)), it reads at most size characters or bytes from the line. If the end of the file is reached, or if readline() is called after the end of the file, it returns an empty string."
      ],
      "metadata": {
        "id": "tS0pfaUf64Tv"
      }
    },
    {
      "cell_type": "markdown",
      "source": [
        "21. What is the logging module in Python used for?\n",
        "-> The logging module in Python is used for recording events and debugging issues during application execution. It provides a flexible system for logging messages, including errors, warnings, and informational messages, to various output destinations like files or the console."
      ],
      "metadata": {
        "id": "KOYVpP-U7C1H"
      }
    },
    {
      "cell_type": "markdown",
      "source": [
        "22. What is the os module in Python used for in file handling?\n",
        "-> Python has a built-in os module with methods for interacting with the operating system, like creating files and directories, management of files and directories, input, output, environment variables, process management, etc."
      ],
      "metadata": {
        "id": "ZT1KRyif7QIA"
      }
    },
    {
      "cell_type": "markdown",
      "source": [
        "23. What are the challenges associated with memory management in Python?\n",
        "-> Python's automatic memory management, while simplifying development, presents several challenges:\n",
        "\n",
        "Memory leaks:\n",
        "Although Python uses garbage collection, it may fail to reclaim memory occupied by objects involved in circular references, leading to memory leaks.\n",
        "\n",
        "High memory consumption:\n",
        "Python's dynamic typing and object-oriented nature result in a significant memory overhead for each object, which can be inefficient for large-scale data processing.\n",
        "\n",
        "Garbage collection pauses:\n",
        "The garbage collector can introduce pauses in program execution while it reclaims unused memory, which can be problematic for real-time applications.\n",
        "\n",
        "Memory fragmentation:\n",
        "Dynamic allocation and deallocation can lead to memory fragmentation, where available memory is scattered in small, unusable chunks.\n",
        "\n",
        "Limited control:\n",
        "Python's automatic memory management offers limited control over when and how memory is allocated and deallocated, making it difficult to optimize memory usage for specific applications.\n",
        "\n",
        "Multithreading issues:\n",
        "Handling shared memory across multiple threads can be complex, leading to race conditions and deadlocks if not managed carefully.\n",
        "\n",
        "Memory errors:\n",
        "When working with large datasets, Python programs may encounter MemoryError if the available memory is insufficient.\n",
        "\n",
        "Inefficient data structures:\n",
        "Using standard Python data types for large datasets can be memory-inefficient. Consider specialized data structures for better memory management.\n",
        "\n",
        "Reference counting overhead:\n",
        "Maintaining reference counts for every object adds space and execution overhead.\n",
        "\n",
        "Debugging memory issues:\n",
        "Identifying and resolving memory-related issues, such as memory leaks and excessive memory usage, can be challenging due to Python's abstraction of memory management."
      ],
      "metadata": {
        "id": "6qDIgbIF7Y47"
      }
    },
    {
      "cell_type": "markdown",
      "source": [
        "24.  How do you raise an exception manually in Python?\n",
        "-> To raise an exception manually in Python, the raise keyword is used, followed by the exception class or instance. This action interrupts the normal flow of the program and transfers control to an appropriate exception handler, if one is defined. If no handler is found, the program will terminate and display an error message."
      ],
      "metadata": {
        "id": "-Nk4lUhy72OV"
      }
    },
    {
      "cell_type": "markdown",
      "source": [
        "25.  Why is it important to use multithreading in certain applications?\n",
        "-> Multithreading is important in applications that benefit from concurrent execution of tasks, improved responsiveness, and efficient resource utilization. By breaking down a program into smaller, independent threads, applications can perform multiple operations simultaneously, leading to faster execution, smoother user interfaces, and better utilization of CPU cores."
      ],
      "metadata": {
        "id": "-BLGoSs87_RV"
      }
    },
    {
      "cell_type": "markdown",
      "source": [
        "# **Files & Exceptional Handling Practical Questions**"
      ],
      "metadata": {
        "id": "FolL7Ix98Nvu"
      }
    },
    {
      "cell_type": "markdown",
      "source": [
        "1. How can you open a file for writing in Python and write a string to it?"
      ],
      "metadata": {
        "id": "cxAKk0Is8eN5"
      }
    },
    {
      "cell_type": "code",
      "source": [
        "# Open a file for writing\n",
        "with open('example.txt', 'w') as file:\n",
        "    # Write a string to the file\n",
        "    file.write('Hello, world!')\n"
      ],
      "metadata": {
        "id": "pVYF8DDT8vEj"
      },
      "execution_count": 1,
      "outputs": []
    },
    {
      "cell_type": "markdown",
      "source": [
        "2. Write a Python program to read the contents of a file and print each line."
      ],
      "metadata": {
        "id": "-JRUqA33RBBf"
      }
    },
    {
      "cell_type": "code",
      "source": [
        "with open('example.txt', 'r') as file:\n",
        "    # Loop through each line in the file\n",
        "    for line in file:\n",
        "        # Print the line (without adding extra newline)\n",
        "        print(line.strip())\n"
      ],
      "metadata": {
        "colab": {
          "base_uri": "https://localhost:8080/"
        },
        "id": "7V6WtusgRHCW",
        "outputId": "039e6236-7577-4a08-837e-e9d5234c2913"
      },
      "execution_count": 2,
      "outputs": [
        {
          "output_type": "stream",
          "name": "stdout",
          "text": [
            "Hello, world!\n"
          ]
        }
      ]
    },
    {
      "cell_type": "markdown",
      "source": [
        "3. How would you handle a case where the file doesn't exist while trying to open it for reading?"
      ],
      "metadata": {
        "id": "NjymOjx6RUqU"
      }
    },
    {
      "cell_type": "code",
      "source": [
        "filename = 'example.txt'\n",
        "\n",
        "try:\n",
        "    with open(filename, 'r') as file:\n",
        "        for line in file:\n",
        "            print(line.strip())\n",
        "except FileNotFoundError:\n",
        "    print(f\"Error: The file '{filename}' does not exist.\")\n"
      ],
      "metadata": {
        "colab": {
          "base_uri": "https://localhost:8080/"
        },
        "id": "uw1-lkooRdl7",
        "outputId": "147a7da5-e306-4f76-cd29-78597fc39a68"
      },
      "execution_count": 3,
      "outputs": [
        {
          "output_type": "stream",
          "name": "stdout",
          "text": [
            "Hello, world!\n"
          ]
        }
      ]
    },
    {
      "cell_type": "markdown",
      "source": [
        "4. Write a Python script that reads from one file and writes its content to another file."
      ],
      "metadata": {
        "id": "-bE60Gq_RqW3"
      }
    },
    {
      "cell_type": "code",
      "source": [
        "# Define source and destination filenames\n",
        "source_file = 'source.txt'\n",
        "destination_file = 'destination.txt'\n",
        "\n",
        "try:\n",
        "    # Open source file for reading\n",
        "    with open(source_file, 'r') as src:\n",
        "        # Open destination file for writing\n",
        "        with open(destination_file, 'w') as dest:\n",
        "            # Read from source and write to destination\n",
        "            for line in src:\n",
        "                dest.write(line)\n",
        "    print(f\"Contents copied from '{source_file}' to '{destination_file}' successfully.\")\n",
        "except FileNotFoundError:\n",
        "    print(f\"Error: The file '{source_file}' does not exist.\")\n",
        "except Exception as e:\n",
        "    print(f\"An error occurred: {e}\")\n"
      ],
      "metadata": {
        "colab": {
          "base_uri": "https://localhost:8080/"
        },
        "id": "KmzHfalqRw1B",
        "outputId": "54691175-19ac-4c7e-a4be-6a6b2417633f"
      },
      "execution_count": 4,
      "outputs": [
        {
          "output_type": "stream",
          "name": "stdout",
          "text": [
            "Error: The file 'source.txt' does not exist.\n"
          ]
        }
      ]
    },
    {
      "cell_type": "markdown",
      "source": [
        "5.  How would you catch and handle division by zero error in Python"
      ],
      "metadata": {
        "id": "yG7jCW4JR5J6"
      }
    },
    {
      "cell_type": "code",
      "source": [
        "try:\n",
        "    numerator = 10\n",
        "    denominator = 0\n",
        "    result = numerator / denominator\n",
        "    print(f\"Result: {result}\")\n",
        "except ZeroDivisionError:\n",
        "    print(\"Error: Division by zero is not allowed.\")\n"
      ],
      "metadata": {
        "colab": {
          "base_uri": "https://localhost:8080/"
        },
        "id": "Z2F1d_ocR-Y4",
        "outputId": "632c57e2-cd11-4c12-e929-7735f27bbf8a"
      },
      "execution_count": 5,
      "outputs": [
        {
          "output_type": "stream",
          "name": "stdout",
          "text": [
            "Error: Division by zero is not allowed.\n"
          ]
        }
      ]
    },
    {
      "cell_type": "markdown",
      "source": [
        "6. Write a Python program that logs an error message to a log file when a division by zero exception occurs."
      ],
      "metadata": {
        "id": "9tBKckjKSEfx"
      }
    },
    {
      "cell_type": "code",
      "source": [
        "import logging\n",
        "\n",
        "# Configure the logging\n",
        "logging.basicConfig(\n",
        "    filename='error.log',          # Log file name\n",
        "    level=logging.ERROR,           # Log level\n",
        "    format='%(asctime)s - %(levelname)s - %(message)s'  # Log message format\n",
        ")\n",
        "\n",
        "try:\n",
        "    numerator = 10\n",
        "    denominator = 0\n",
        "    result = numerator / denominator\n",
        "    print(f\"Result: {result}\")\n",
        "except ZeroDivisionError as e:\n",
        "    logging.error(\"Division by zero error occurred: %s\", e)\n",
        "    print(\"An error occurred. Check the log file for details.\")\n"
      ],
      "metadata": {
        "colab": {
          "base_uri": "https://localhost:8080/"
        },
        "id": "I-QNDoVmSJ_b",
        "outputId": "7104f7f4-2aa6-4c0b-d2f8-c4086fee4835"
      },
      "execution_count": 6,
      "outputs": [
        {
          "output_type": "stream",
          "name": "stderr",
          "text": [
            "ERROR:root:Division by zero error occurred: division by zero\n"
          ]
        },
        {
          "output_type": "stream",
          "name": "stdout",
          "text": [
            "An error occurred. Check the log file for details.\n"
          ]
        }
      ]
    },
    {
      "cell_type": "markdown",
      "source": [
        "7.  How do you log information at different levels (INFO, ERROR, WARNING) in Python using the logging module?"
      ],
      "metadata": {
        "id": "9PTNA_aKSRg8"
      }
    },
    {
      "cell_type": "code",
      "source": [
        "import logging\n",
        "\n",
        "# Configure the logger\n",
        "logging.basicConfig(\n",
        "    filename='app.log',           # File to write logs to\n",
        "    level=logging.DEBUG,          # Minimum level to capture\n",
        "    format='%(asctime)s - %(levelname)s - %(message)s'\n",
        ")\n",
        "\n",
        "# Logging messages at various levels\n",
        "logging.debug(\"This is a DEBUG message - useful for diagnosing problems.\")\n",
        "logging.info(\"This is an INFO message - general information.\")\n",
        "logging.warning(\"This is a WARNING message - something unexpected might happen.\")\n",
        "logging.error(\"This is an ERROR message - an error occurred.\")\n",
        "logging.critical(\"This is a CRITICAL message - serious error, program may not continue.\")\n"
      ],
      "metadata": {
        "colab": {
          "base_uri": "https://localhost:8080/"
        },
        "id": "lMtvpRsmSV2b",
        "outputId": "ad0fde67-fa82-4e09-ba62-2960d5e92a6f"
      },
      "execution_count": 7,
      "outputs": [
        {
          "output_type": "stream",
          "name": "stderr",
          "text": [
            "WARNING:root:This is a WARNING message - something unexpected might happen.\n",
            "ERROR:root:This is an ERROR message - an error occurred.\n",
            "CRITICAL:root:This is a CRITICAL message - serious error, program may not continue.\n"
          ]
        }
      ]
    },
    {
      "cell_type": "markdown",
      "source": [
        "8. Write a program to handle a file opening error using exception handling."
      ],
      "metadata": {
        "id": "ouLTXjPPSguO"
      }
    },
    {
      "cell_type": "code",
      "source": [
        "filename = 'non_existent_file.txt'\n",
        "\n",
        "try:\n",
        "    # Attempt to open the file for reading\n",
        "    with open(filename, 'r') as file:\n",
        "        content = file.read()\n",
        "        print(content)\n",
        "except FileNotFoundError:\n",
        "    print(f\"Error: The file '{filename}' was not found.\")\n",
        "except PermissionError:\n",
        "    print(f\"Error: Permission denied when trying to open '{filename}'.\")\n",
        "except Exception as e:\n",
        "    print(f\"An unexpected error occurred: {e}\")\n"
      ],
      "metadata": {
        "colab": {
          "base_uri": "https://localhost:8080/"
        },
        "id": "1bnky70bSkbc",
        "outputId": "d84393c3-eaf8-47e4-df21-f4e0a7807dc9"
      },
      "execution_count": 8,
      "outputs": [
        {
          "output_type": "stream",
          "name": "stdout",
          "text": [
            "Error: The file 'non_existent_file.txt' was not found.\n"
          ]
        }
      ]
    },
    {
      "cell_type": "markdown",
      "source": [
        "9. How can you read a file line by line and store its content in a list in Python?"
      ],
      "metadata": {
        "id": "bkVyiwkSSslC"
      }
    },
    {
      "cell_type": "code",
      "source": [
        "filename = 'example.txt'\n",
        "\n",
        "try:\n",
        "    with open(filename, 'r') as file:\n",
        "        lines = [line.strip() for line in file]  # Read and strip newline characters\n",
        "    print(lines)\n",
        "except FileNotFoundError:\n",
        "    print(f\"Error: The file '{filename}' was not found.\")\n"
      ],
      "metadata": {
        "colab": {
          "base_uri": "https://localhost:8080/"
        },
        "id": "EcJi4GlLSwRi",
        "outputId": "362e4a40-a6ea-459c-c320-abc0f8d512e6"
      },
      "execution_count": 9,
      "outputs": [
        {
          "output_type": "stream",
          "name": "stdout",
          "text": [
            "['Hello, world!']\n"
          ]
        }
      ]
    },
    {
      "cell_type": "markdown",
      "source": [
        "10.  How can you append data to an existing file in Python?"
      ],
      "metadata": {
        "id": "emE6kAbhS2Aj"
      }
    },
    {
      "cell_type": "code",
      "source": [
        "# Data to append\n",
        "new_data = \"This is a new line of text.\\n\"\n",
        "\n",
        "# Open the file in append mode\n",
        "with open('example.txt', 'a') as file:\n",
        "    file.write(new_data)\n",
        "\n",
        "print(\"Data appended successfully.\")\n"
      ],
      "metadata": {
        "colab": {
          "base_uri": "https://localhost:8080/"
        },
        "id": "4RiZcdHtS6PL",
        "outputId": "a1f540ff-a982-4ca9-d4a7-15bef1192d79"
      },
      "execution_count": 10,
      "outputs": [
        {
          "output_type": "stream",
          "name": "stdout",
          "text": [
            "Data appended successfully.\n"
          ]
        }
      ]
    },
    {
      "cell_type": "markdown",
      "source": [
        "11. Write a Python program that uses a try-except block to handle an error when attempting to access a\n",
        "dictionary key that doesn't exist."
      ],
      "metadata": {
        "id": "MBzeM6FKTC-G"
      }
    },
    {
      "cell_type": "code",
      "source": [
        "my_dict = {'name': 'Alice', 'age': 30}\n",
        "\n",
        "try:\n",
        "    # Attempt to access a key that might not exist\n",
        "    value = my_dict['address']\n",
        "    print(f\"Address: {value}\")\n",
        "except KeyError:\n",
        "    print(\"Error: The key 'address' does not exist in the dictionary.\")\n"
      ],
      "metadata": {
        "colab": {
          "base_uri": "https://localhost:8080/"
        },
        "id": "epqqCwEGTHZJ",
        "outputId": "efc36c3a-d774-44cb-e0f5-48ef9003e2c5"
      },
      "execution_count": 11,
      "outputs": [
        {
          "output_type": "stream",
          "name": "stdout",
          "text": [
            "Error: The key 'address' does not exist in the dictionary.\n"
          ]
        }
      ]
    },
    {
      "cell_type": "markdown",
      "source": [
        "12. Write a program that demonstrates using multiple except blocks to handle different types of exceptions."
      ],
      "metadata": {
        "id": "MRkQYRDuTPNM"
      }
    },
    {
      "cell_type": "code",
      "source": [
        "try:\n",
        "    # Example inputs\n",
        "    numerator = int(input(\"Enter numerator: \"))\n",
        "    denominator = int(input(\"Enter denominator: \"))\n",
        "\n",
        "    result = numerator / denominator\n",
        "    print(f\"Result: {result}\")\n",
        "\n",
        "    # Accessing a dictionary key that might not exist\n",
        "    my_dict = {'name': 'Alice'}\n",
        "    print(\"Age:\", my_dict['age'])\n",
        "\n",
        "except ZeroDivisionError:\n",
        "    print(\"Error: Cannot divide by zero.\")\n",
        "except ValueError:\n",
        "    print(\"Error: Invalid input. Please enter integers only.\")\n",
        "except KeyError:\n",
        "    print(\"Error: The specified key was not found in the dictionary.\")\n",
        "except Exception as e:\n",
        "    print(f\"An unexpected error occurred: {e}\")\n"
      ],
      "metadata": {
        "colab": {
          "base_uri": "https://localhost:8080/"
        },
        "id": "4-NwqWkoTVDn",
        "outputId": "38ac2951-bfeb-450c-9c3e-69e8b33d30f5"
      },
      "execution_count": 12,
      "outputs": [
        {
          "output_type": "stream",
          "name": "stdout",
          "text": [
            "Enter numerator: 5\n",
            "Enter denominator: 2\n",
            "Result: 2.5\n",
            "Error: The specified key was not found in the dictionary.\n"
          ]
        }
      ]
    },
    {
      "cell_type": "markdown",
      "source": [
        "13. How would you check if a file exists before attempting to read it in Python?"
      ],
      "metadata": {
        "id": "_ww2czNGTgbH"
      }
    },
    {
      "cell_type": "code",
      "source": [
        "import os\n",
        "\n",
        "file_path = \"path/to/your/file.txt\"\n",
        "\n",
        "if os.path.exists(file_path):\n",
        "    with open(file_path, 'r') as file:\n",
        "        content = file.read()\n",
        "        # Process the file content\n",
        "        print(content)\n",
        "else:\n",
        "    print(f\"File not found: {file_path}\")"
      ],
      "metadata": {
        "colab": {
          "base_uri": "https://localhost:8080/"
        },
        "id": "WXkjZavoTklE",
        "outputId": "6337b15f-db43-4e97-a9dd-aa59b3417cc5"
      },
      "execution_count": 13,
      "outputs": [
        {
          "output_type": "stream",
          "name": "stdout",
          "text": [
            "File not found: path/to/your/file.txt\n"
          ]
        }
      ]
    },
    {
      "cell_type": "markdown",
      "source": [
        "14. Write a program that uses the logging module to log both informational and error messages."
      ],
      "metadata": {
        "id": "ItxMze-6UMvp"
      }
    },
    {
      "cell_type": "code",
      "source": [
        "import logging\n",
        "\n",
        "# Configure logging to write to a file, with a specific format\n",
        "logging.basicConfig(filename='example.log', level=logging.INFO,\n",
        "                    format='%(asctime)s - %(levelname)s - %(message)s')\n",
        "\n",
        "def divide(x, y):\n",
        "    \"\"\"Divides two numbers and logs the operation.\"\"\"\n",
        "    logging.info(f\"Dividing {x} by {y}\")\n",
        "    try:\n",
        "        result = x / y\n",
        "    except ZeroDivisionError:\n",
        "        logging.error(f\"Attempted to divide {x} by zero\")\n",
        "        return None\n",
        "    else:\n",
        "        return result\n",
        "\n",
        "# Example usage\n",
        "num1 = 10\n",
        "num2 = 2\n",
        "result = divide(num1, num2)\n",
        "if result is not None:\n",
        "    logging.info(f\"Result of division: {result}\")\n",
        "\n",
        "num3 = 5\n",
        "num4 = 0\n",
        "result = divide(num3, num4)\n",
        "if result is None:\n",
        "    logging.warning(\"Division by zero was handled\")"
      ],
      "metadata": {
        "colab": {
          "base_uri": "https://localhost:8080/"
        },
        "id": "_62WCcpDURbZ",
        "outputId": "7bd2f796-8d2b-4860-8412-b4c041eb58c1"
      },
      "execution_count": 14,
      "outputs": [
        {
          "output_type": "stream",
          "name": "stderr",
          "text": [
            "ERROR:root:Attempted to divide 5 by zero\n",
            "WARNING:root:Division by zero was handled\n"
          ]
        }
      ]
    },
    {
      "cell_type": "markdown",
      "source": [
        "15.  Write a Python program that prints the content of a file and handles the case when the file is empty."
      ],
      "metadata": {
        "id": "bARDjndFUikC"
      }
    },
    {
      "cell_type": "code",
      "source": [
        "def print_file_content(file_path):\n",
        "    \"\"\"Prints the content of a file.\n",
        "\n",
        "    Args:\n",
        "        file_path: The path to the file.\n",
        "    \"\"\"\n",
        "    try:\n",
        "        with open(file_path, 'r') as file:\n",
        "            content = file.read()\n",
        "            if not content:\n",
        "                print(\"The file is empty.\")\n",
        "            else:\n",
        "                print(content)\n",
        "    except FileNotFoundError:\n",
        "        print(f\"Error: File not found: {file_path}\")\n",
        "    except Exception as e:\n",
        "         print(f\"An error occurred: {e}\")\n",
        "\n",
        "# Example usage:\n",
        "file_path = \"my_file.txt\"\n",
        "# Create a dummy file for testing\n",
        "with open(file_path, 'w') as f:\n",
        "    f.write(\"This is a test.\\n\")\n",
        "print(\"File content:\")\n",
        "print_file_content(file_path)\n",
        "\n",
        "# Test with an empty file\n",
        "with open(file_path, 'w') as f:\n",
        "    pass # creates empty file\n",
        "print(\"\\nFile content (empty file):\")\n",
        "print_file_content(file_path)\n",
        "\n",
        "# Test with a non-existent file\n",
        "print(\"\\nFile content (non-existent file):\")\n",
        "print_file_content(\"non_existent_file.txt\")"
      ],
      "metadata": {
        "colab": {
          "base_uri": "https://localhost:8080/"
        },
        "id": "xfyGIgSqUomH",
        "outputId": "70db6f3f-ecd3-4ba4-b125-6249a8ade674"
      },
      "execution_count": 15,
      "outputs": [
        {
          "output_type": "stream",
          "name": "stdout",
          "text": [
            "File content:\n",
            "This is a test.\n",
            "\n",
            "\n",
            "File content (empty file):\n",
            "The file is empty.\n",
            "\n",
            "File content (non-existent file):\n",
            "Error: File not found: non_existent_file.txt\n"
          ]
        }
      ]
    },
    {
      "cell_type": "markdown",
      "source": [
        "16.  Demonstrate how to use memory profiling to check the memory usage of a small program."
      ],
      "metadata": {
        "id": "-1xnk0Z2U0WQ"
      }
    },
    {
      "cell_type": "code",
      "source": [
        "from memory_profiler import profile\n",
        "\n",
        "@profile\n",
        "def create_large_lists():\n",
        "    # Create a large list of squares\n",
        "    squares = [x ** 2 for x in range(10**6)]\n",
        "\n",
        "    # Create a large list of cubes\n",
        "    cubes = [x ** 3 for x in range(10**6)]\n",
        "\n",
        "    # Delete cubes list to free memory\n",
        "    del cubes\n",
        "\n",
        "    return squares\n",
        "\n",
        "if __name__ == \"__main__\":\n",
        "    create_large_lists()\n"
      ],
      "metadata": {
        "id": "e6uApn1WXIs0"
      },
      "execution_count": null,
      "outputs": []
    },
    {
      "cell_type": "markdown",
      "source": [
        "17. Write a Python program to create and write a list of numbers to a file, one number per line."
      ],
      "metadata": {
        "id": "cBYsuWIoVHEZ"
      }
    },
    {
      "cell_type": "code",
      "source": [
        "def write_numbers_to_file(filename, numbers):\n",
        "    \"\"\"Writes a list of numbers to a file, one number per line.\n",
        "\n",
        "    Args:\n",
        "        filename: The name of the file to write to.\n",
        "        numbers: A list of numbers.\n",
        "    \"\"\"\n",
        "    with open(filename, 'w') as file:\n",
        "        for number in numbers:\n",
        "            file.write(str(number) + '\\n')\n",
        "\n",
        "# Example usage:\n",
        "numbers = [1, 2, 3, 4, 5]\n",
        "filename = 'numbers.txt'\n",
        "write_numbers_to_file(filename, numbers)"
      ],
      "metadata": {
        "id": "D3ms3nPUVLAO"
      },
      "execution_count": 17,
      "outputs": []
    },
    {
      "cell_type": "markdown",
      "source": [
        "18.  How would you implement a basic logging setup that logs to a file with rotation after 1MB?"
      ],
      "metadata": {
        "id": "VVvu2TfMVPMx"
      }
    },
    {
      "cell_type": "code",
      "source": [
        "import logging\n",
        "from logging.handlers import RotatingFileHandler\n",
        "\n",
        "# Create logger\n",
        "logger = logging.getLogger('my_logger')\n",
        "logger.setLevel(logging.DEBUG)  # or INFO, WARNING, etc.\n",
        "\n",
        "# Create a rotating file handler\n",
        "handler = RotatingFileHandler(\n",
        "    'app.log',          # log file name\n",
        "    maxBytes=1_000_000, # 1MB\n",
        "    backupCount=5       # number of backup files to keep\n",
        ")\n",
        "\n",
        "# Create formatter and set it for the handler\n",
        "formatter = logging.Formatter('%(asctime)s - %(levelname)s - %(message)s')\n",
        "handler.setFormatter(formatter)\n",
        "\n",
        "# Add handler to the logger\n",
        "logger.addHandler(handler)\n",
        "\n",
        "# Example usage\n",
        "logger.info(\"This is an info message.\")\n",
        "logger.error(\"This is an error message.\")\n"
      ],
      "metadata": {
        "colab": {
          "base_uri": "https://localhost:8080/"
        },
        "id": "MRHzFhRtVTcl",
        "outputId": "b1147f09-7c97-4cd3-fba5-79bac912fc37"
      },
      "execution_count": 18,
      "outputs": [
        {
          "output_type": "stream",
          "name": "stderr",
          "text": [
            "INFO:my_logger:This is an info message.\n",
            "ERROR:my_logger:This is an error message.\n"
          ]
        }
      ]
    },
    {
      "cell_type": "markdown",
      "source": [
        "19. Write a program that handles both IndexError and KeyError using a try-except block."
      ],
      "metadata": {
        "id": "cyWuhf3IVk05"
      }
    },
    {
      "cell_type": "code",
      "source": [
        "def access_elements():\n",
        "    my_list = [1, 2, 3]\n",
        "    my_dict = {'a': 10, 'b': 20}\n",
        "\n",
        "    try:\n",
        "        # This might raise IndexError if index is out of range\n",
        "        print(my_list[5])\n",
        "\n",
        "        # This might raise KeyError if key is not found\n",
        "        print(my_dict['z'])\n",
        "\n",
        "    except IndexError:\n",
        "        print(\"Caught an IndexError: list index out of range!\")\n",
        "\n",
        "    except KeyError:\n",
        "        print(\"Caught a KeyError: key not found in dictionary!\")\n",
        "\n",
        "access_elements()\n"
      ],
      "metadata": {
        "colab": {
          "base_uri": "https://localhost:8080/"
        },
        "id": "rriAm4SMVo0F",
        "outputId": "bc6ff5f6-4531-49c0-95c0-0f41608b8280"
      },
      "execution_count": 19,
      "outputs": [
        {
          "output_type": "stream",
          "name": "stdout",
          "text": [
            "Caught an IndexError: list index out of range!\n"
          ]
        }
      ]
    },
    {
      "cell_type": "markdown",
      "source": [
        "20. How would you open a file and read its contents using a context manager in Python?"
      ],
      "metadata": {
        "id": "w543e3NcVtyD"
      }
    },
    {
      "cell_type": "code",
      "source": [
        "file_path = 'example.txt'\n",
        "\n",
        "try:\n",
        "    with open(file_path, 'r') as file:\n",
        "        file_contents = file.read()\n",
        "        print(file_contents)\n",
        "except FileNotFoundError:\n",
        "    print(f\"Error: The file '{file_path}' was not found.\")\n",
        "except Exception as e:\n",
        "    print(f\"An error occurred: {e}\")"
      ],
      "metadata": {
        "colab": {
          "base_uri": "https://localhost:8080/"
        },
        "id": "h_jWIhJCWYJf",
        "outputId": "4bee8ff8-1c77-48c2-85de-93f86c8f8872"
      },
      "execution_count": 21,
      "outputs": [
        {
          "output_type": "stream",
          "name": "stdout",
          "text": [
            "Hello, world!This is a new line of text.\n",
            "\n"
          ]
        }
      ]
    },
    {
      "cell_type": "markdown",
      "source": [
        "21. Write a Python program that reads a file and prints the number of occurrences of a specific word."
      ],
      "metadata": {
        "id": "U4cT-S8qXNcO"
      }
    },
    {
      "cell_type": "code",
      "source": [
        "def count_word_in_file(filename, target_word):\n",
        "    count = 0\n",
        "    with open(filename, 'r', encoding='utf-8') as file:\n",
        "        for line in file:\n",
        "            # Split the line into words, normalize to lowercase for case-insensitive matching\n",
        "            words = line.lower().split()\n",
        "            count += words.count(target_word.lower())\n",
        "    return count\n",
        "\n",
        "if __name__ == \"__main__\":\n",
        "    filename = 'example.txt'      # Replace with your file path\n",
        "    word_to_find = 'python'       # Replace with the word you want to count\n",
        "\n",
        "    occurrences = count_word_in_file(filename, word_to_find)\n",
        "    print(f\"The word '{word_to_find}' occurs {occurrences} times in the file '{filename}'.\")\n"
      ],
      "metadata": {
        "colab": {
          "base_uri": "https://localhost:8080/"
        },
        "id": "El4zn3MDXTKK",
        "outputId": "ee1434ae-3472-4713-d2da-39042de78070"
      },
      "execution_count": 25,
      "outputs": [
        {
          "output_type": "stream",
          "name": "stdout",
          "text": [
            "The word 'python' occurs 0 times in the file 'example.txt'.\n"
          ]
        }
      ]
    },
    {
      "cell_type": "markdown",
      "source": [
        "22. How can you check if a file is empty before attempting to read its contents"
      ],
      "metadata": {
        "id": "5dOsBqlAXaWC"
      }
    },
    {
      "cell_type": "code",
      "source": [
        "import os\n",
        "\n",
        "filename = 'example.txt'\n",
        "\n",
        "if os.path.getsize(filename) == 0:\n",
        "    print(\"The file is empty.\")\n",
        "else:\n",
        "    with open(filename, 'r') as file:\n",
        "        contents = file.read()\n",
        "        print(contents)\n"
      ],
      "metadata": {
        "colab": {
          "base_uri": "https://localhost:8080/"
        },
        "id": "ovxd8BKMXkyj",
        "outputId": "7650d862-0dc6-4252-d96d-4f4343049601"
      },
      "execution_count": 26,
      "outputs": [
        {
          "output_type": "stream",
          "name": "stdout",
          "text": [
            "Hello, world!This is a new line of text.\n",
            "\n"
          ]
        }
      ]
    },
    {
      "cell_type": "markdown",
      "source": [
        "23. Write a Python program that writes to a log file when an error occurs during file handling."
      ],
      "metadata": {
        "id": "1spDsrvvXtal"
      }
    },
    {
      "cell_type": "code",
      "source": [
        "import logging\n",
        "\n",
        "# Set up logging to file with rotation (optional)\n",
        "logging.basicConfig(\n",
        "    filename='error.log',\n",
        "    level=logging.ERROR,\n",
        "    format='%(asctime)s - %(levelname)s - %(message)s'\n",
        ")\n",
        "\n",
        "def read_file(filename):\n",
        "    try:\n",
        "        with open(filename, 'r', encoding='utf-8') as file:\n",
        "            contents = file.read()\n",
        "            print(contents)\n",
        "    except Exception as e:\n",
        "        logging.error(f\"Error occurred while handling file '{filename}': {e}\")\n",
        "        print(\"An error occurred. Check the log file for details.\")\n",
        "\n",
        "if __name__ == \"__main__\":\n",
        "    filename = 'nonexistent_file.txt'  # Change to your target file\n",
        "    read_file(filename)\n"
      ],
      "metadata": {
        "colab": {
          "base_uri": "https://localhost:8080/"
        },
        "id": "N5VJpBu9X8u9",
        "outputId": "9ce1ff9a-6c08-469f-f2a4-fedc129c74ed"
      },
      "execution_count": 27,
      "outputs": [
        {
          "output_type": "stream",
          "name": "stderr",
          "text": [
            "ERROR:root:Error occurred while handling file 'nonexistent_file.txt': [Errno 2] No such file or directory: 'nonexistent_file.txt'\n"
          ]
        },
        {
          "output_type": "stream",
          "name": "stdout",
          "text": [
            "An error occurred. Check the log file for details.\n"
          ]
        }
      ]
    }
  ]
}